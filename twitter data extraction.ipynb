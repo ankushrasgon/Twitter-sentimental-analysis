{
 "cells": [
  {
   "cell_type": "code",
   "execution_count": 1,
   "metadata": {},
   "outputs": [
    {
     "name": "stdout",
     "output_type": "stream",
     "text": [
      "[nltk_data] Downloading package punkt to\n",
      "[nltk_data]     C:\\Users\\hp\\AppData\\Roaming\\nltk_data...\n",
      "[nltk_data]   Package punkt is already up-to-date!\n"
     ]
    },
    {
     "data": {
      "text/plain": [
       "True"
      ]
     },
     "execution_count": 1,
     "metadata": {},
     "output_type": "execute_result"
    }
   ],
   "source": [
    "import re\n",
    "import tweepy\n",
    "from tweepy import OAuthHandler\n",
    "from textblob import TextBlob\n",
    "import matplotlib.pyplot as plt\n",
    "import nltk\n",
    "nltk.download('punkt')"
   ]
  },
  {
   "cell_type": "code",
   "execution_count": 2,
   "metadata": {},
   "outputs": [],
   "source": [
    "#authentication\n",
    "consumer_key ='qBzIUHm08QKtwicKEoZfM9MBh'\n",
    "consumer_secret='XwpIpo4ws6KoUmQ4EsLQ2Ex34voKKFe3deX781mToxNKJpPTWt'\n",
    "access_token='1025602775273467904-rn08CJXIPu3moMgZA3lxp8FvMgGHTz'\n",
    "access_token_secret='DwUH42aLLgL6mR7wG8aywPSosa6Y7VH0xJ3LG0tN5KFoe'\n",
    "        \n",
    "try:\n",
    "    auth=tweepy.OAuthHandler(consumer_key,consumer_secret)\n",
    "    auth.set_access_token(access_token, access_token_secret)\n",
    "    api=tweepy.API(auth,wait_on_rate_limit=True)\n",
    "except:\n",
    "    print(\"Error: Authentication Failed\")  "
   ]
  },
  {
   "cell_type": "code",
   "execution_count": 3,
   "metadata": {},
   "outputs": [
    {
     "name": "stdout",
     "output_type": "stream",
     "text": [
      "Enter the Cryptocurrency Name:bitcoin\n"
     ]
    }
   ],
   "source": [
    "SearchCurrency=input(\"Enter the Cryptocurrency Name:\")"
   ]
  },
  {
   "cell_type": "code",
   "execution_count": 4,
   "metadata": {},
   "outputs": [
    {
     "name": "stdout",
     "output_type": "stream",
     "text": [
      "Enter the no of tweets:10500\n"
     ]
    }
   ],
   "source": [
    "NoTweets=int(input(\"Enter the no of tweets:\"))"
   ]
  },
  {
   "cell_type": "code",
   "execution_count": 5,
   "metadata": {},
   "outputs": [],
   "source": [
    "tweets = tweepy.Cursor(api.search, q=SearchCurrency,).items(NoTweets)"
   ]
  },
  {
   "cell_type": "code",
   "execution_count": 6,
   "metadata": {},
   "outputs": [],
   "source": [
    "def clean_tweets(tweet):\n",
    "    return(\" \".join(re.sub(\"(@[A-Za-z0-9]+)|([^0-9A-Za-z \\t])|(\\w+:\\/\\/\\S+)\", \" \", tweet).split()))"
   ]
  },
  {
   "cell_type": "code",
   "execution_count": 7,
   "metadata": {},
   "outputs": [],
   "source": [
    "tmp=[]\n",
    "for tweet in tweets:\n",
    "    tmp.append(clean_tweets(tweet.text))"
   ]
  },
  {
   "cell_type": "code",
   "execution_count": 8,
   "metadata": {},
   "outputs": [],
   "source": [
    "tokens=[]\n",
    "for tweet in tmp:\n",
    "    tokens.append(nltk.word_tokenize(tweet))"
   ]
  },
  {
   "cell_type": "code",
   "execution_count": 9,
   "metadata": {},
   "outputs": [],
   "source": [
    "airdrop_tweets=[]\n",
    "flag = []\n",
    "flag_1=0\n",
    "stopword=['airdrop'] \n",
    "reqlen=len(tokens)\n",
    "for word in range(reqlen):\n",
    "    for next in tokens[word]:\n",
    "        if(next.lower()=='airdrop'):\n",
    "            flag.append(word)\n",
    "            \n",
    "airdrop_tweets=tokens                \n",
    "for i in flag:\n",
    "    if(flag_1 == 0):\n",
    "        airdrop_tweets.pop(int(i))\n",
    "        flag_1 = 1\n",
    "    else:\n",
    "        airdrop_tweets.pop(int(i - int(flag_1)))\n",
    "        flag_1+=1"
   ]
  },
  {
   "cell_type": "code",
   "execution_count": 10,
   "metadata": {},
   "outputs": [],
   "source": [
    "ankush=[]\n",
    "for i in airdrop_tweets:\n",
    "     ankush.append(\" \".join(i))"
   ]
  },
  {
   "cell_type": "code",
   "execution_count": 11,
   "metadata": {},
   "outputs": [],
   "source": [
    "from pandas import ExcelWriter"
   ]
  },
  {
   "cell_type": "code",
   "execution_count": 12,
   "metadata": {},
   "outputs": [],
   "source": [
    "writer = ExcelWriter(r'C:\\Users\\hp\\Desktop\\data science\\twitter.xlsx')"
   ]
  },
  {
   "cell_type": "code",
   "execution_count": 13,
   "metadata": {},
   "outputs": [],
   "source": [
    "import pandas as pd\n",
    "df = pd.DataFrame(ankush)\n",
    "df.to_excel(r'C:\\Users\\hp\\Desktop\\data science\\twitter.xlsx', header=False, index=False)"
   ]
  },
  {
   "cell_type": "code",
   "execution_count": null,
   "metadata": {},
   "outputs": [],
   "source": []
  }
 ],
 "metadata": {
  "kernelspec": {
   "display_name": "Python 3",
   "language": "python",
   "name": "python3"
  },
  "language_info": {
   "codemirror_mode": {
    "name": "ipython",
    "version": 3
   },
   "file_extension": ".py",
   "mimetype": "text/x-python",
   "name": "python",
   "nbconvert_exporter": "python",
   "pygments_lexer": "ipython3",
   "version": "3.6.4"
  }
 },
 "nbformat": 4,
 "nbformat_minor": 2
}
