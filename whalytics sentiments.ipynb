{
 "cells": [
  {
   "cell_type": "code",
   "execution_count": 1,
   "metadata": {},
   "outputs": [],
   "source": [
    "import re\n",
    "import tweepy\n",
    "from tweepy import OAuthHandler\n",
    "from textblob import TextBlob\n",
    "import matplotlib.pyplot as plt"
   ]
  },
  {
   "cell_type": "code",
   "execution_count": 2,
   "metadata": {},
   "outputs": [],
   "source": [
    "#authentication\n",
    "consumer_key ='qBzIUHm08QKtwicKEoZfM9MBh'\n",
    "consumer_secret='XwpIpo4ws6KoUmQ4EsLQ2Ex34voKKFe3deX781mToxNKJpPTWt'\n",
    "access_token='1025602775273467904-rn08CJXIPu3moMgZA3lxp8FvMgGHTz'\n",
    "access_token_secret='DwUH42aLLgL6mR7wG8aywPSosa6Y7VH0xJ3LG0tN5KFoe'\n",
    "        \n",
    "try:\n",
    "    auth=tweepy.OAuthHandler(consumer_key,consumer_secret)\n",
    "    auth.set_access_token(access_token, access_token_secret)\n",
    "    api=tweepy.API(auth)\n",
    "except:\n",
    "    print(\"Error: Authentication Failed\")          "
   ]
  },
  {
   "cell_type": "code",
   "execution_count": 3,
   "metadata": {},
   "outputs": [],
   "source": [
    "def percentage_Sentiments(section,whole):\n",
    "    return 100*float(section)/float(whole)"
   ]
  },
  {
   "cell_type": "code",
   "execution_count": 4,
   "metadata": {},
   "outputs": [],
   "source": [
    "def clean_tweets(tweet):\n",
    "    return(\" \".join(re.sub(\"(@[A-Za-z0-9]+)|([^0-9A-Za-z \\t])|(\\w+:\\/\\/\\S+)\", \" \", tweet).split()))"
   ]
  },
  {
   "cell_type": "code",
   "execution_count": 5,
   "metadata": {},
   "outputs": [
    {
     "name": "stdout",
     "output_type": "stream",
     "text": [
      "Enter the CryptoCoin Name:Bitcoin\n"
     ]
    }
   ],
   "source": [
    "SearchCurrency=input(\"Enter the CryptoCoin Name:\")"
   ]
  },
  {
   "cell_type": "code",
   "execution_count": 6,
   "metadata": {},
   "outputs": [
    {
     "name": "stdout",
     "output_type": "stream",
     "text": [
      "Enter the no of tweets:100\n"
     ]
    }
   ],
   "source": [
    "NoTweets=int(input(\"Enter the no of tweets:\"))"
   ]
  },
  {
   "cell_type": "code",
   "execution_count": 7,
   "metadata": {},
   "outputs": [],
   "source": [
    "#getting the tweets\n",
    "tweets = tweepy.Cursor(api.search, q=SearchCurrency,).items(NoTweets) \n",
    "\n",
    "positive=0\n",
    "negative=0\n",
    "neutral=0\n",
    "polarity=0"
   ]
  },
  {
   "cell_type": "code",
   "execution_count": 8,
   "metadata": {},
   "outputs": [
    {
     "name": "stdout",
     "output_type": "stream",
     "text": [
      "🔸 “El bitcóin debe prohibirse”, sugiere premio Nobel de Economía #Criptomonedas https://t.co/Ro4r7apjs2\n",
      "RT @Poly__network: We Have Started Airdrop Compaign For Community Growth\n",
      "\n",
      "Get 100000AI 🔥Tokens For Joining\n",
      "Plus 10000AI 🔥 Tokens For Refer…\n",
      "RT @bravenewcoin: #Bitcoin Price: USD $6495.83 $BLX https://t.co/uBGkL4PWSO https://t.co/TanUVqn2OT\n",
      "RT @ArminVanBitcoin: This is huge! Coingate is enabling #bitcoin lightning payments for all 4,000 of its merchants. #LightningNetwork 👏⚡🎉…\n",
      "Antminer S9 14 TH/s 24-Hour Mining Contract for SHA-256 Bitcoin https://t.co/eEClOn4U9I https://t.co/KVsWqsu9Xh\n",
      "This is a great project so quickly join and do not let you regret it. Great work of developers will give the result… https://t.co/4tHHLW6OqQ\n",
      "Ether plunges more than bitcoin, frustrating investors who believed it was the better alte #BreakingNews… https://t.co/Vja1OLsTlP\n",
      "Duplicate skilled traders automatically using Bitcoin! ✅\n",
      "\n",
      "I copy \"wangzai888\". Do you?\n",
      "\n",
      "➡️ https://t.co/KYR2h12h6S… https://t.co/SD5jpFXhzb\n",
      "To be able to fill leisure intelligently is the last product of civilization. #ArnoldToynbee #bitcoin\n",
      "Top 5 #cryptocurrencies \n",
      " Alert Time: 2018-09-07 09:50:02\n",
      "#Bitcoin: $6,526.373\n",
      "#Ethereum: $229.960\n",
      "#XRP: $0.298… https://t.co/4dvozBz1xi\n",
      "MercadoBitcoin(BTC) =&gt; R$29000 | BlockChain(BTC) =&gt; R$26309 | MercadoBitcoin(LTC) =&gt; R$248 #bitcoin #litecoin\n",
      "RT @coinnounce: Ethereum Block reward is now only 2 ETH - Difficulty Bomb Delayed https://t.co/nQexR9AEL8 #coinnounce #cryptocurrency #bitc…\n",
      "RT @RealtyReturns: https://t.co/uhKkVzIHCv is Democratizing Cross-Border Real Estate Investing with Security Tokens https://t.co/L9ns1IzvTD…\n",
      "RT @coinspectator: Win 1.000.000 TRX. Binance Announces New TRX Competition #blockchain #bitcoin #btc Binance https://t.co/KQi2LbjpuA https…\n",
      "@GIGAblockchain $xg #crypto #bitcoin\n",
      "RT @kryptoinETF: August 23/18 11;45AM EST Kryptoin Snapshot \n",
      "SEC Rejects 9 Bitcoin ETF Applications from ProShares, Direxion and GraniteSha…\n",
      "RT @TJSnookGaming: 25$ Bitcoin Giveaway\n",
      "\n",
      "- Retweet + Like\n",
      "- Follow me + @CryptoMagicGG \n",
      "- Tag 2 friends\n",
      "\n",
      "Ends in 48 hours https://t.co/gLIj…\n",
      "RT @kalydeoo: Goldman Sachs reporte son projet de « desk bitcoin » https://t.co/v3Oaa2B1Ni via @LesEchos\n",
      "Capital multi-assets grant you access to the most innovative project and lead you to the next generation of communi… https://t.co/AvL7gfwe10\n",
      "仮想通貨　ビットコイン（BTC）の単位は https://t.co/FuFvlku4J1  https://t.co/2MShlj8N1t\n",
      "RT @coinnounce: Bitfi Closes Wallet Bounty Program, Removes 'Unhackable' Marking. https://t.co/89sYfJO9He #coinnounce #cryptocurrency #bitc…\n",
      "RT @golf_coin: Bonus Limited Time :\n",
      "\n",
      "1     ETH - Golfcoin  &amp;   Bouns  0.8 Golfcoin\n",
      "0.5  ETH - Golfcoin  &amp;   Bouns  0.4 Golfcoin\n",
      "0.2  ETH -…\n",
      "Die beliebte US-amerikanische Krypto-Börse Coinbase prüft, ob sie einen Vorschlag für einen bitcoinbasierten Exchan… https://t.co/VETBTBtsZC\n",
      "RT @TourDeCrypto: We’re proud to announce that @HODLFUEL has joined the tour as a community sponsor!\n",
      "\n",
      "HODL Fuel will #donate a portion of e…\n",
      "#ICO #Crowdsale #Bitcoin #Blockchain #Token #ETH #Ethereum #TokenSale https://t.co/5HEtmcQGSV\n",
      "RT @GIGAblockchain: $XG is growing rapidly, thank you #GIGA community!\n",
      "HIGH roi period about to kick in, 100k blocks (We're at 84,839) - Ge…\n",
      "RT @BitplaceTo: Bitplace Anniversary Airdrop $150.000 in #bitcoin ! Terrell Trading Group, LLC, who operates Bitplace Exchange will give $1…\n",
      "Copy successful traders automatically with Bitcoin! ✅\n",
      "\n",
      "I copy \"wangzai888\". Do you?\n",
      "\n",
      "➡️ https://t.co/pRi5tmUGe2 ⬅️… https://t.co/7qAjADWIsr\n",
      "In this video I use technical analysis to predict how low bitcoin will go. I also show how the rich are... https://t.co/7BdDf1CLFf\n",
      "AvaGo: Pay and manage or perform and earn.\n",
      "https://t.co/QUTJWC063C\n",
      "#cryptocurrency\n",
      "#bitcoin https://t.co/QHDnciSWyw\n",
      "RT @coinnounce: Poland's crypto taxation. Explained https://t.co/o4iGgjV5cA #coinnounce #cryptocurrency #bitcoin #ethereum #ripple #litecoi…\n",
      "RT @eByteCommunity: Our official eByte ICO opens today! 😎\n",
      "\n",
      "Join us on #Discord for our public community event! 🎮\n",
      "\n",
      "➡️ https://t.co/u8c9q30Ae…\n",
      "Hay quien apunta a la postura de ⁦@GoldmanSachs⁩ como una de las causas de la caída. La entidad #financiera parece… https://t.co/oV1IJcDUqy\n",
      "RT @iamjosephyoung: Goldman Sachs CFO says reports about its Bitcoin trading desk roll back is fake news.\n",
      "\n",
      "The $90 billion investment bank…\n",
      "RT @Latifayhan2: A nice free #bitcoin  site 8 rd day total 2660 the balance is in the picture Can you register from the link \n",
      "Get free bitc…\n",
      "RT @ponyroompumpers: I will choose 13 random followers to win 0.17 ETH\n",
      "Please:\n",
      "\n",
      "1. FOLLOW\n",
      "2. LIKE AND RETWEET \n",
      "3. Join our Telegram chat ht…\n",
      "RT @LocalBitcoins: \"Among cryptocurrencies, Bitcoin has seen a surge in optimism over the past six months.\" https://t.co/t9JKJ9zxll\n",
      "RT @iapostolov: Иронията, че мнозина вярват, че криптото ще замести банките. Една банка слага критото назад в приоритетите и то се срива...…\n",
      "RT @TrendOnline: Criptovalute: Bitcoin lancia il mayday, cambia tutto in un lampo https://t.co/Y3w5GyO08Z\n",
      "it is one of the great ico ....\n",
      " so join it as soon as you can\n",
      "@capital_company #CapitalTechnologiesResearch,… https://t.co/OysJOaDeY9\n",
      "RT @CryptalDash: Daily Trading Report of September 6, 2018:\n",
      "\n",
      "Exchange 24h Trading Volume: $2,492,353.89 / ₿358.70\n",
      "CryptalDash CRD Price: $0…\n",
      "#XBlock #Blockchain #Crypto #ether #ethereum #bitcoin #cryptocurrency #ICO #tokensale https://t.co/c4r92aWO1U\n",
      "RT @coinnounce: Ethereum Block reward is now only 2 ETH - Difficulty Bomb Delayed https://t.co/nQexR9AEL8 #coinnounce #cryptocurrency #bitc…\n",
      "RT @APompliano: Coinbase and BlackRock are reportedly teaming up to create a Bitcoin ETF.\n",
      "\n",
      "Things are going to get REAL INTERESTING if Wall…\n",
      "Zero Carbon project aims to achieve a material reduction in CO2 emissions, which can only happen if customers embra… https://t.co/gDlYeZ8or2\n",
      "RT @HTMLCOIN: New Partnership/Listing Update:\n",
      "\n",
      "We’re announcing new partnership with @SatoWallet that will enable you to trade/store #HTMLC…\n",
      "RT @Latifayhan2: A nice free #bitcoin  site 8 rd day total 2660 the balance is in the picture Can you register from the link \n",
      "Get free bitc…\n",
      "RT @tradingcoach123: ♥️♥️♥️Finaly Today I choose lucky followers to win 0.02 BTC.\n",
      "\n",
      "1. FOLLOW\n",
      "2. LIKE AND RETWEET \n",
      "3. Comment your #BTC addr…\n",
      "RT @SmartChainMedia: We agree, not impossible and quite brilliant!\n",
      "#bitcoin #blockchain https://t.co/DqxSMoFNrI\n",
      "RT @OnasanderICO: Onasander Airdrop! $3,000 give away every week!\n",
      "First Investment Bank running on Blockchain.\n",
      "\n",
      "Go to Airdrop Page : https:…\n",
      "Bitcoin-Futures: Fluch oder Segen? https://t.co/twS1svmfzp\n",
      "RT @Zerix_token: Zerix exchange platform beta testing is coming soon ,stand a chance to earn a reward of 1million ZEK\n",
      "\n",
      "To partake in zerix…\n",
      "RT @AltcoinsTalks: #Elpis #Bounty &gt; &gt; https://t.co/ynmZ63dY8w\n",
      "#ELP #AI #trading #crypto #cryptocurrency #altcoins #bitcoin #btc #eth #bch #…\n",
      "RT @Mirk09733840: Goodmorning guys. It’s day 9 in the @SoCoSNP bounty! We are more than 58k in SoCo official chat! Hoin now:https://t.co/MW…\n",
      "RT @Shubh_105: @BoseyBets thanks for the legit bitcoin giveaway. Follow him for more guys 🔥🔥🔥 https://t.co/Wh6XqQSpJb\n",
      "Buy/Sell Bitcoin moves with up to 100x Leverage at Bitmex! 💰🎉\n",
      "\n",
      "Get a 10% Fee Reduction:\n",
      "\n",
      "▶️ https://t.co/e8dDGujlVj… https://t.co/obf7ncdo2G\n",
      "Some explanation on it.....\n",
      "\n",
      "https://t.co/4ODcEN2BpN\n",
      "RT @Latifayhan2: A nice free #bitcoin  site 8 rd day total 2660 the balance is in the picture Can you register from the link \n",
      "Get free bitc…\n",
      "RT @laurentlequien: COUT DE TONNERRE ⚡️#Blockchain\n",
      "@GoldmanSachs Sachs renonce au #bitcoin, les #cryptomonnaies décrochent https://t.co/9MJ…\n",
      "Bitcoin iki günde yüzde 15 değer kaybetti  https://t.co/IWrm5Aszhy https://t.co/Atj3z5C5pC\n",
      "RT @adubats: I don’t know about you, but I see high potential and high reward in #crypto. #Cryptocurrency isn’t for you if you scare easily…\n",
      "RT @golf_coin: Bonus Limited Time :\n",
      "\n",
      "1     ETH - Golfcoin  &amp;   Bouns  0.8 Golfcoin\n",
      "0.5  ETH - Golfcoin  &amp;   Bouns  0.4 Golfcoin\n",
      "0.2  ETH -…\n",
      "Replicate lucrative traders automatically with Bitcoin! ✅\n",
      "\n",
      "I copy \"wangzai888\". Do you?\n",
      "\n",
      "➡️ https://t.co/o8xrYvfqr5… https://t.co/y4jKhl3FVO\n",
      "RT @thedailyhodl: Breaking: Goldman Sachs Still Launching Bitcoin Trading Desk, Calls Crypto Rumors to the Contrary ‘Fake News’\n",
      "\n",
      "$BTC #Bitc…\n",
      "RT @autark_ventures: CryptoHoops and @CoinAnalystTech teamed up for our basketball event. Happy to have you on board as a sponsor. Can't wa…\n",
      "Replicate successful traders automatically with Bitcoin! ✅\n",
      "\n",
      "I copy \"wangzai888\". Do you?\n",
      "\n",
      "➡️… https://t.co/QA4pwuwfSs\n",
      "Replicate lucrative traders automatically with Bitcoin! ✅\n",
      "\n",
      "I copy \"wangzai888\". Do you?\n",
      "\n",
      "➡️ https://t.co/RF41vjtdwh… https://t.co/LgdGNDR2Ol\n",
      "Copy lucrative traders automatically with Bitcoin! ✅\n",
      "\n",
      "I copy \"wangzai888\". Do you?\n",
      "\n",
      "➡️ https://t.co/Qk4fNKBGvs ⬅️… https://t.co/gPfxGDcVuT\n",
      "Duplicate skilled traders automatically with Bitcoin! ✅\n",
      "\n",
      "I copy \"wangzai888\". Do you?\n",
      "\n",
      "➡️ https://t.co/NbHEzx5En0… https://t.co/rm53EDsTo4\n"
     ]
    },
    {
     "name": "stdout",
     "output_type": "stream",
     "text": [
      "Goldman Sachs CFO says bank is working on bitcoin derivative for clients https://t.co/7ERVjqr7t8\n",
      "🔸 La minería de Bitcoin contamina tanto al año como un millón de vuelos trasatlánticos https://t.co/mT9o2Fbve3\n",
      "@cyber_hokie Ethereum is getting a backlash from price drop, opening line gave authors main thought. &lt;&lt; Salty as fu… https://t.co/hnUktUla1l\n",
      "#XBlock #Blockchain #Crypto #ether #ethereum #bitcoin #cryptocurrency #ICO #tokensale https://t.co/Hq2tbj2CZl\n",
      "Brain Gain für Bitcoin &amp; Co: Malta schreibt Blockchain-Stipendium aus https://t.co/DWgVvVAgon\n",
      "RT @zg_top: The https://t.co/VyaMbEJH8H weekly report was released. Let's take a look at what https://t.co/VyaMbEJH8H news this week has, a…\n",
      "Houston Rockets’ Billionaire Owner Accepts Bitcoin at Luxury Car Dealership\n",
      "\n",
      "A luxury car retailer based in Houston… https://t.co/kHIiUVXwDO\n",
      "RT @HiluxC: We are looking for Crypto Marketing Talent to promote our coins, please check the link below for more info!! https://t.co/Q5VW9…\n",
      "wThe birth of #bitcoin leads to a #blockchain movement aiming to disrupt the #tech industry &gt;&gt; @ZagoMatteoGian… https://t.co/TfPvkl2d5c\n",
      "Sembra che #Malta continui a \"rubare\" i titoli per progetti innovativi nello spazio #blockchain con l'offerta più r… https://t.co/AJ5Wjxh8yu\n",
      "Buy/Sell Bitcoin changes with up to 100x Leverage at Bitmex! 💰🎉\n",
      "\n",
      "Get a 10% Fee Rebate:\n",
      "\n",
      "▶️ https://t.co/H08aQ54F9Y… https://t.co/TZkob4YWaX\n",
      "RT @kubitx: Eric Annan CEO on his way to Zimbabwe for a KuBitX conference. Let's walk this road together and create the world we were meant…\n",
      "RT @JuicyFruityyy: $50 BITCOIN GIVEAWAY!\n",
      "\n",
      "To Enter:\n",
      "\n",
      "-RT\n",
      "-Like this video:\n",
      "https://t.co/9ogwv7wepu\n",
      "(YOU MUST SHOW PROOF OF LIKE WITH SCREEN…\n",
      "RT @oliverzok: Great to be interviewed by Forbes about the recent gains in the Crypto Markets\n",
      "\n",
      "\"The price action is very indicative of the…\n",
      "パソコンが無い・苦手！　スマホからも仮想通貨取引所の口座開設できるの？ https://t.co/AuNdHGfiNS  https://t.co/o0xCuihPEf\n",
      "The https://t.co/VyaMbEJH8H weekly report was released. Let's take a look at what https://t.co/VyaMbEJH8H news this… https://t.co/OPIu6k4kB7\n",
      "RT @elpis_invest: Would you like to know more about Elpis? Here is our #pitch with our CEO @AnatolyCastella giving a snapshot of the entire…\n",
      "Deposit Bitcoin. Copy this guy. Recover your lost.\n",
      "\n",
      "https://t.co/WCTwDhNpQE\n",
      "\n",
      "$NULS $QSP $VIB $AST $TRX $AMB $ARN… https://t.co/D8nVS2Om6H\n",
      "A Prediction - What will happen with #cryptocurrency &amp; its nascent supporting #blockchain technology in coming year… https://t.co/G7F0XROama\n",
      "RT @JuicyFruityyy: ANOTHER $50 BITCOIN GIVEAWAY!\n",
      "\n",
      "To Enter:\n",
      "\n",
      "-RT\n",
      "-Like this video:\n",
      "https://t.co/QCGpR5VZnB\n",
      "\n",
      "(MUST SHOW PROOF)\n",
      "\n",
      "Thats it!\n",
      "\n",
      "E…\n",
      "RT @BitplaceTo: Bitplace Anniversary Airdrop $150.000 in #bitcoin ! Terrell Trading Group, LLC, who operates Bitplace Exchange will give $1…\n",
      "RT @alistairmilne: Just to remind everyone where the 'fake news' about Goldman's Bitcoin trading desk came from\n",
      "It was then happily parrote…\n",
      "RT @Socialremit_uk: STILL HAS TIME TO CONTINUE WINNING TOKENS UNTIL OCTOBER!\n",
      "\n",
      "SOCIALREMIT Airdrop \n",
      "FREE up to 20 million CSR community toke…\n",
      "W12 allows anyone to build (no programing required) smart contracts with necessary logic\n",
      "- Any type of crowd sale c… https://t.co/ew2E9dtOcr\n",
      "RT @tradingcoach123: ♥️♥️♥️Finaly Today I choose lucky followers to win 0.02 BTC.\n",
      "\n",
      "1. FOLLOW\n",
      "2. LIKE AND RETWEET \n",
      "3. Comment your #BTC addr…\n",
      "Above $7K: Bitcoin Price Pushes Higher In Break Past Resistance\n",
      "https://t.co/Xms3LDrhTE\n",
      "RT @FlipNpik: Local businesses ❤️ Crypto. \n",
      "\n",
      "Here's another example in Geneva where you can pay for your meal with cryptocurrency. This is w…\n",
      "Living With Life After Crypto &gt;&gt; https://t.co/EntCALI8Bf\n",
      "Options are a financial derivative sold by an option writer to an option buyer. The contract offers the buyer the r… https://t.co/x2aorvccQg\n",
      "RT @ismailhpolat: BitCoin'in dün geceki 1.000 dolarlık keskin düşüşü, yine ve yeniden \"BitCoin bitiyor mu?\" tartışmalarını başlattı. 2013't…\n",
      "RT @OryxianOfficial: OryxCash Launches 500,000 OryxCoins Airdrop Program | Coindelite Press Releases https://t.co/xI7SNqeqn0 \n",
      "Join Our Tele…\n"
     ]
    }
   ],
   "source": [
    "for tweet in tweets:\n",
    "    print(tweet.text)\n",
    "    analysis=TextBlob(clean_tweets(tweet.text))\n",
    "    polarity+=analysis.sentiment.polarity\n",
    "    \n",
    "    \n",
    "    if(analysis.sentiment.polarity==0):\n",
    "        neutral+=1\n",
    "    elif(analysis.sentiment.polarity>0.00):\n",
    "        positive+=1\n",
    "    elif(analysis.sentiment.polarity<0.00):\n",
    "        negative+=1"
   ]
  },
  {
   "cell_type": "code",
   "execution_count": 9,
   "metadata": {},
   "outputs": [
    {
     "data": {
      "text/plain": [
       "40"
      ]
     },
     "execution_count": 9,
     "metadata": {},
     "output_type": "execute_result"
    }
   ],
   "source": [
    "positive"
   ]
  },
  {
   "cell_type": "code",
   "execution_count": 10,
   "metadata": {},
   "outputs": [],
   "source": [
    "positive=percentage_Sentiments(positive,NoTweets)\n",
    "negative=percentage_Sentiments(negative,NoTweets)\n",
    "neutral=percentage_Sentiments(neutral,NoTweets)"
   ]
  },
  {
   "cell_type": "code",
   "execution_count": 11,
   "metadata": {},
   "outputs": [
    {
     "data": {
      "text/plain": [
       "40.0"
      ]
     },
     "execution_count": 11,
     "metadata": {},
     "output_type": "execute_result"
    }
   ],
   "source": [
    "positive"
   ]
  },
  {
   "cell_type": "code",
   "execution_count": 12,
   "metadata": {},
   "outputs": [
    {
     "name": "stdout",
     "output_type": "stream",
     "text": [
      "Neutral\n"
     ]
    }
   ],
   "source": [
    "if(analysis.sentiment.polarity>0):\n",
    "    print(\"Positive\")\n",
    "elif(analysis.sentiment.polarity==0):\n",
    "    print(\"Neutral\")\n",
    "elif(analysis.sentiment.polarity<0):\n",
    "    print(\"Negative\")"
   ]
  },
  {
   "cell_type": "code",
   "execution_count": 13,
   "metadata": {},
   "outputs": [],
   "source": [
    "labels=['Positive['+str(positive)+']','Neutral['+str(neutral)+']','negative['+str(negative)+']']"
   ]
  },
  {
   "cell_type": "code",
   "execution_count": 14,
   "metadata": {},
   "outputs": [],
   "source": [
    "sizes=[positive,neutral,negative]"
   ]
  },
  {
   "cell_type": "code",
   "execution_count": 15,
   "metadata": {},
   "outputs": [],
   "source": [
    "colors=['Royalblue','Orange','yellow']"
   ]
  },
  {
   "cell_type": "code",
   "execution_count": 16,
   "metadata": {},
   "outputs": [
    {
     "data": {
      "text/plain": [
       "<function matplotlib.pyplot.show>"
      ]
     },
     "execution_count": 16,
     "metadata": {},
     "output_type": "execute_result"
    },
    {
     "data": {
      "image/png": "[encoded data removed]",
      "text/plain": [
       "<matplotlib.figure.Figure at 0x1f1a01958d0>"
      ]
     },
     "metadata": {},
     "output_type": "display_data"
    }
   ],
   "source": [
    "patches, texts=plt.pie(sizes,colors=colors, startangle=90)\n",
    "plt.legend(patches,labels,loc=\"best\")\n",
    "plt.axis('equal')\n",
    "plt.tight_layout()\n",
    "plt.show"
   ]
  },
  {
   "cell_type": "code",
   "execution_count": 17,
   "metadata": {},
   "outputs": [
    {
     "data": {
      "image/png": "[encoded data removed]",
      "text/plain": [
       "<matplotlib.figure.Figure at 0x1f1a01751d0>"
      ]
     },
     "metadata": {},
     "output_type": "display_data"
    }
   ],
   "source": [
    "# Pie chart\n",
    "labels = ['Positive['+str(positive)+']','Neutral['+str(neutral)+']','negative['+str(negative)+']']\n",
    "sizes = [positive,neutral,negative]\n",
    " \n",
    "fig1, ax1 = plt.subplots()\n",
    "ax1.pie(sizes, labels=labels, autopct='%1.1f%%',\n",
    "        shadow=True, startangle=90)\n",
    "plt.legend(patches,labels)\n",
    "ax1.axis('equal')  \n",
    "plt.tight_layout()\n",
    "plt.show()"
   ]
  },
  {
   "cell_type": "code",
   "execution_count": null,
   "metadata": {},
   "outputs": [],
   "source": []
  },
  {
   "cell_type": "code",
   "execution_count": null,
   "metadata": {},
   "outputs": [],
   "source": []
  },
  {
   "cell_type": "code",
   "execution_count": null,
   "metadata": {},
   "outputs": [],
   "source": []
  }
 ],
 "metadata": {
  "kernelspec": {
   "display_name": "Python 3",
   "language": "python",
   "name": "python3"
  },
  "language_info": {
   "codemirror_mode": {
    "name": "ipython",
    "version": 3
   },
   "file_extension": ".py",
   "mimetype": "text/x-python",
   "name": "python",
   "nbconvert_exporter": "python",
   "pygments_lexer": "ipython3",
   "version": "3.6.4"
  }
 },
 "nbformat": 4,
 "nbformat_minor": 2
}
